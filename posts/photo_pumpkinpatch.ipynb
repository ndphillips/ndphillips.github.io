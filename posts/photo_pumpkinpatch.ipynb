{
  "cells": [
    {
      "cell_type": "raw",
      "metadata": {},
      "source": [
        "--- \n",
        "author: \"Nathaniel Phillips\" \n",
        "categories: [R] \n",
        "date: 2024-04-21\n",
        "draft: false\n",
        "format:\n",
        "  html:\n",
        "    toc: true\n",
        "    toc-location: left\n",
        "description: \"Photo | Pumpkin Patch\" \n",
        "title: \"Photo | Pumpkin Patch\" \n",
        "---"
      ],
      "id": "54c95eee"
    },
    {
      "cell_type": "markdown",
      "metadata": {},
      "source": [
        "::: {figure}\n",
        "![](../assets/photo_pumpkinpatch.jpg){width=100%}\n",
        "Taken on October 11, 2024 in Portland Oregon at The Pumpkin Patch on Sauvie Island, Portland, OR\n",
        ":::\n",
        "\n",
        "I took this photo at The Pumpkin Patch on Sauvie Island in Portland, OR. This was just 2 weeks after our family moved from Brooklyn, NY to Portland. We were in the middle of a stressful move and we decided we had to take a break and do one of my favorite things, during my favorite time of year - visit a pumpkin patch in the Fall!\n",
        "\n",
        "Short digression -- I became enchanted with pumpkin patches during a visit to Tim's Pumpkin Patch in Marietta NY\n",
        "\n",
        "\n",
        "```{html}\n",
        "<iframe src=\"https://www.google.com/maps/embed?pb=!1m18!1m12!1m3!1d11688.578462755362!2d-76.35466736840759!3d42.911990940270144!2m3!1f0!2f0!3f0!3m2!1i1024!2i768!4f13.1!3m3!1m2!1s0x89da03ea4ec02b47%3A0x66e8a9923e7fd624!2sTim&#39;s%20Pumpkin%20Patch!5e0!3m2!1sen!2sus!4v1732908416267!5m2!1sen!2sus\" width=\"600\" height=\"450\" style=\"border:0;\" allowfullscreen=\"\" loading=\"lazy\" referrerpolicy=\"no-referrer-when-downgrade\"></iframe>\n",
        "```"
      ],
      "id": "0004744c"
    }
  ],
  "metadata": {
    "kernelspec": {
      "display_name": "Python 3",
      "language": "python",
      "name": "python3"
    }
  },
  "nbformat": 4,
  "nbformat_minor": 5
}